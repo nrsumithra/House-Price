{
 "cells": [
  {
   "cell_type": "code",
   "execution_count": 119,
   "metadata": {},
   "outputs": [
    {
     "name": "stdout",
     "output_type": "stream",
     "text": [
      "165.45739655376485\n"
     ]
    }
   ],
   "source": [
    "import pickle\n",
    "import json\n",
    "with open('house price.pkl','rb') as f:\n",
    "    model=pickle.load(f)\n",
    "with open('columns.json','r') as cols:\n",
    "    column=json.load(cols)       \n",
    "def predict_price(BHK, Bath, final_sqft,location):\n",
    "    locate=list(column.values())[0].index(location.lower())  #get the index value of the location in search  \n",
    "    x=np.zeros(len(list(column.values())[0])) #To replicate'X',fill row values with '0'.Later it can b changed\n",
    "    x[0]=BHK\n",
    "    x[1]=Bath\n",
    "    x[2]=final_sqft\n",
    "    x[locate]=1\n",
    "    x_log=np.log10(x+1)\n",
    "    pred=model.predict([x_log])\n",
    "    return 10**pred[0]    \n",
    "print(predict_price(2,2,1400,'Indira Nagar'))\n"
   ]
  },
  {
   "cell_type": "code",
   "execution_count": null,
   "metadata": {},
   "outputs": [],
   "source": []
  }
 ],
 "metadata": {
  "kernelspec": {
   "display_name": "Python 3",
   "language": "python",
   "name": "python3"
  },
  "language_info": {
   "codemirror_mode": {
    "name": "ipython",
    "version": 3
   },
   "file_extension": ".py",
   "mimetype": "text/x-python",
   "name": "python",
   "nbconvert_exporter": "python",
   "pygments_lexer": "ipython3",
   "version": "3.8.5"
  }
 },
 "nbformat": 4,
 "nbformat_minor": 4
}
